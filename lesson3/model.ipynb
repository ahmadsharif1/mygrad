{
 "cells": [
  {
   "cell_type": "code",
   "execution_count": 4,
   "metadata": {},
   "outputs": [],
   "source": [
    "import torch\n",
    "import torch.nn.functional as F\n",
    "import matplotlib.pyplot as plt\n",
    "%matplotlib inline\n"
   ]
  },
  {
   "cell_type": "code",
   "execution_count": 5,
   "metadata": {},
   "outputs": [
    {
     "data": {
      "text/plain": [
       "['emma', 'olivia', 'ava', 'isabella', 'sophia', 'charlotte', 'mia', 'amelia']"
      ]
     },
     "execution_count": 5,
     "metadata": {},
     "output_type": "execute_result"
    }
   ],
   "source": [
    "# read in all the words\n",
    "words = open ('names.txt', 'r').read().splitlines()\n",
    "words[:8]\n"
   ]
  },
  {
   "cell_type": "code",
   "execution_count": 6,
   "metadata": {},
   "outputs": [
    {
     "data": {
      "text/plain": [
       "32033"
      ]
     },
     "execution_count": 6,
     "metadata": {},
     "output_type": "execute_result"
    }
   ],
   "source": [
    "len(words)"
   ]
  },
  {
   "cell_type": "code",
   "execution_count": 17,
   "metadata": {},
   "outputs": [
    {
     "name": "stdout",
     "output_type": "stream",
     "text": [
      "{1: 'a', 2: 'b', 3: 'c', 4: 'd', 5: 'e', 6: 'f', 7: 'g', 8: 'h', 9: 'i', 10: 'j', 11: 'k', 12: 'l', 13: 'm', 14: 'n', 15: 'o', 16: 'p', 17: 'q', 18: 'r', 19: 's', 20: 't', 21: 'u', 22: 'v', 23: 'w', 24: 'x', 25: 'y', 26: 'z', 0: '.'}\n"
     ]
    }
   ],
   "source": [
    "# build the vocabulary of characters and mappings to/from integers\n",
    "chars = [chr(c + ord('a'))  for c in range(26)]\n",
    "stoi = {s:i+1 for i, s in enumerate(chars)}\n",
    "stoi['.'] = 0\n",
    "itos = {i:s for s, i in stoi.items()}\n",
    "print(itos)"
   ]
  },
  {
   "cell_type": "code",
   "execution_count": 18,
   "metadata": {},
   "outputs": [
    {
     "data": {
      "text/plain": [
       "['a',\n",
       " 'b',\n",
       " 'c',\n",
       " 'd',\n",
       " 'e',\n",
       " 'f',\n",
       " 'g',\n",
       " 'h',\n",
       " 'i',\n",
       " 'j',\n",
       " 'k',\n",
       " 'l',\n",
       " 'm',\n",
       " 'n',\n",
       " 'o',\n",
       " 'p',\n",
       " 'q',\n",
       " 'r',\n",
       " 's',\n",
       " 't',\n",
       " 'u',\n",
       " 'v',\n",
       " 'w',\n",
       " 'x',\n",
       " 'y',\n",
       " 'z']"
      ]
     },
     "execution_count": 18,
     "metadata": {},
     "output_type": "execute_result"
    }
   ],
   "source": [
    "chars"
   ]
  },
  {
   "cell_type": "code",
   "execution_count": 39,
   "metadata": {},
   "outputs": [
    {
     "name": "stdout",
     "output_type": "stream",
     "text": [
      "emma\n",
      "... ---> e\n",
      "..e ---> m\n",
      ".em ---> m\n",
      "emm ---> a\n",
      "mma ---> .\n",
      "olivia\n",
      "... ---> o\n",
      "..o ---> l\n",
      ".ol ---> i\n",
      "oli ---> v\n",
      "liv ---> i\n",
      "ivi ---> a\n",
      "via ---> .\n",
      "ava\n",
      "... ---> a\n",
      "..a ---> v\n",
      ".av ---> a\n",
      "ava ---> .\n",
      "isabella\n",
      "... ---> i\n",
      "..i ---> s\n",
      ".is ---> a\n",
      "isa ---> b\n",
      "sab ---> e\n",
      "abe ---> l\n",
      "bel ---> l\n",
      "ell ---> a\n",
      "lla ---> .\n",
      "sophia\n",
      "... ---> s\n",
      "..s ---> o\n",
      ".so ---> p\n",
      "sop ---> h\n",
      "oph ---> i\n",
      "phi ---> a\n",
      "hia ---> .\n"
     ]
    }
   ],
   "source": [
    "block_size = 3  # context length: how many chars do we take to predict the next one\n",
    "X, Y = [], []\n",
    "\n",
    "for w in words[:5]:\n",
    "  print(w)\n",
    "  context = [0] * block_size\n",
    "  for ch in w + '.':\n",
    "    ix = stoi[ch]\n",
    "    X.append(context)\n",
    "    Y.append(ix)\n",
    "    print(''.join(itos[i] for i in context), '--->', itos[ix])\n",
    "    context = context[1:] + [ix]  # crop and append\n",
    "X = torch.tensor(X)\n",
    "Y = torch.tensor(Y)"
   ]
  },
  {
   "cell_type": "code",
   "execution_count": 40,
   "metadata": {},
   "outputs": [
    {
     "data": {
      "text/plain": [
       "(torch.Size([32, 3]), torch.int64, torch.Size([32]), torch.int64)"
      ]
     },
     "execution_count": 40,
     "metadata": {},
     "output_type": "execute_result"
    }
   ],
   "source": [
    "X.shape, X.dtype, Y.shape, Y.dtype"
   ]
  },
  {
   "cell_type": "code",
   "execution_count": 21,
   "metadata": {},
   "outputs": [],
   "source": [
    "# Map the 27 characters \n",
    "assert len(stoi) == 27\n",
    "space_size = 2\n",
    "C = torch.rand((len(stoi), space_size))"
   ]
  },
  {
   "cell_type": "code",
   "execution_count": 22,
   "metadata": {},
   "outputs": [
    {
     "data": {
      "text/plain": [
       "tensor([[0.4624, 0.1387],\n",
       "        [0.8507, 0.9478],\n",
       "        [0.6253, 0.3581],\n",
       "        [0.7159, 0.1242],\n",
       "        [0.0450, 0.8407],\n",
       "        [0.4640, 0.8471],\n",
       "        [0.8086, 0.3359],\n",
       "        [0.7865, 0.0264],\n",
       "        [0.5184, 0.8245],\n",
       "        [0.7974, 0.9851],\n",
       "        [0.2681, 0.4635],\n",
       "        [0.6244, 0.5814],\n",
       "        [0.5014, 0.1859],\n",
       "        [0.2770, 0.8254],\n",
       "        [0.6116, 0.9288],\n",
       "        [0.7154, 0.0916],\n",
       "        [0.2919, 0.2686],\n",
       "        [0.8289, 0.0177],\n",
       "        [0.2424, 0.9277],\n",
       "        [0.6997, 0.6812],\n",
       "        [0.4035, 0.9327],\n",
       "        [0.3393, 0.6275],\n",
       "        [0.1138, 0.8202],\n",
       "        [0.1207, 0.9186],\n",
       "        [0.0090, 0.3810],\n",
       "        [0.8164, 0.0397],\n",
       "        [0.9644, 0.9917]])"
      ]
     },
     "execution_count": 22,
     "metadata": {},
     "output_type": "execute_result"
    }
   ],
   "source": [
    "C"
   ]
  },
  {
   "cell_type": "code",
   "execution_count": 33,
   "metadata": {},
   "outputs": [
    {
     "data": {
      "text/plain": [
       "tensor([0.4640, 0.8471])"
      ]
     },
     "execution_count": 33,
     "metadata": {},
     "output_type": "execute_result"
    }
   ],
   "source": [
    "F.one_hot(torch.tensor(5), num_classes=27).float() @ C"
   ]
  },
  {
   "cell_type": "code",
   "execution_count": 35,
   "metadata": {},
   "outputs": [
    {
     "data": {
      "text/plain": [
       "torch.Size([32, 3, 2])"
      ]
     },
     "execution_count": 35,
     "metadata": {},
     "output_type": "execute_result"
    }
   ],
   "source": [
    "C[X].shape"
   ]
  },
  {
   "cell_type": "code",
   "execution_count": 36,
   "metadata": {},
   "outputs": [
    {
     "data": {
      "text/plain": [
       "torch.Size([32, 3, 2])"
      ]
     },
     "execution_count": 36,
     "metadata": {},
     "output_type": "execute_result"
    }
   ],
   "source": [
    "emb = C[X]\n",
    "emb.shape"
   ]
  },
  {
   "cell_type": "code",
   "execution_count": 49,
   "metadata": {},
   "outputs": [
    {
     "data": {
      "text/plain": [
       "tensor([[-0.1952,  0.9298,  0.3888,  ...,  0.9815, -0.9427, -0.0398],\n",
       "        [-0.4565,  0.9847,  0.8895,  ...,  0.9957, -0.9194,  0.0380],\n",
       "        [-0.7770,  0.9101,  0.9517,  ...,  0.9932, -0.2919,  0.3018],\n",
       "        ...,\n",
       "        [-0.3101,  0.9847,  0.9422,  ...,  0.9924, -0.9571,  0.0107],\n",
       "        [-0.7907,  0.9854,  0.8490,  ...,  0.9874, -0.9111, -0.1665],\n",
       "        [ 0.0324,  0.9967,  0.7182,  ...,  0.9940, -0.9802,  0.1169]])"
      ]
     },
     "execution_count": 49,
     "metadata": {},
     "output_type": "execute_result"
    }
   ],
   "source": [
    "W1 = torch.randn((6, 100))  # 6 comes from 2 dimensions * context window of 3\n",
    "b1 = torch.randn(100)\n",
    "h = torch.tanh(emb.view(-1, 6) @ W1 + b1)\n",
    "h"
   ]
  },
  {
   "cell_type": "code",
   "execution_count": 51,
   "metadata": {},
   "outputs": [],
   "source": [
    "W2 = torch.randn((100, 27))\n",
    "b2 = torch.randn(27)\n",
    "logits = h @ W2 + b2"
   ]
  },
  {
   "cell_type": "code",
   "execution_count": 54,
   "metadata": {},
   "outputs": [],
   "source": [
    "counts = logits.exp()\n",
    "prob = counts / counts.sum(1, keepdims=True)"
   ]
  },
  {
   "cell_type": "code",
   "execution_count": 55,
   "metadata": {},
   "outputs": [
    {
     "data": {
      "text/plain": [
       "tensor([[1.5095e-04, 4.7499e-05, 9.6408e-03, 2.1707e-08, 9.7927e-11, 3.8926e-11,\n",
       "         1.6162e-06, 1.2481e-11, 9.1936e-09, 8.5495e-08, 3.2561e-06, 1.2665e-05,\n",
       "         9.3483e-05, 2.3534e-07, 3.0689e-12, 1.8928e-03, 3.9767e-10, 3.9404e-11,\n",
       "         9.4865e-01, 4.2158e-05, 1.1903e-04, 1.3609e-10, 3.7575e-07, 1.9783e-09,\n",
       "         4.5316e-09, 2.4898e-09, 3.9342e-02],\n",
       "        [7.3350e-06, 4.2102e-05, 5.9420e-06, 4.5155e-11, 1.2182e-13, 5.7646e-13,\n",
       "         2.1504e-08, 6.6083e-11, 2.3875e-10, 1.0650e-05, 7.6414e-07, 5.5115e-08,\n",
       "         1.8204e-07, 2.2637e-08, 2.5554e-13, 2.8015e-06, 1.6929e-11, 2.2892e-15,\n",
       "         9.9993e-01, 7.2074e-07, 1.4329e-07, 1.5185e-12, 9.7106e-11, 1.2050e-11,\n",
       "         7.2822e-11, 1.5304e-12, 3.0076e-07],\n",
       "        [1.0887e-04, 1.0451e-04, 5.8730e-05, 9.9759e-10, 3.9829e-11, 6.2290e-11,\n",
       "         1.2147e-06, 3.4116e-11, 3.5360e-09, 6.2221e-07, 6.6379e-07, 1.5910e-05,\n",
       "         6.0850e-05, 5.0188e-06, 1.0539e-12, 1.7661e-04, 4.8388e-11, 1.6109e-15,\n",
       "         9.9856e-01, 5.3277e-04, 1.6508e-06, 9.7863e-10, 1.5331e-10, 5.2029e-09,\n",
       "         1.9111e-08, 4.9651e-11, 3.7362e-04],\n",
       "        [1.0512e-03, 1.9726e-06, 1.9914e-07, 1.1334e-07, 1.1464e-07, 3.1682e-07,\n",
       "         1.1155e-02, 1.1062e-08, 2.5037e-08, 2.2276e-06, 3.0306e-02, 7.2767e-04,\n",
       "         2.5172e-02, 3.4616e-01, 2.3792e-09, 1.1718e-01, 5.5145e-08, 8.7049e-15,\n",
       "         6.8982e-02, 3.9823e-01, 9.0427e-06, 5.0158e-07, 3.3887e-08, 3.5059e-09,\n",
       "         2.0829e-07, 9.1205e-09, 1.0276e-03],\n",
       "        [8.2563e-05, 7.7289e-07, 1.6469e-05, 2.7175e-06, 5.5392e-09, 1.8092e-08,\n",
       "         3.5909e-02, 8.4152e-10, 1.2771e-08, 9.4382e-05, 3.4381e-04, 2.5807e-04,\n",
       "         3.2364e-02, 1.4100e-02, 5.6421e-11, 3.0956e-02, 9.5330e-09, 3.1243e-14,\n",
       "         8.8469e-01, 1.5313e-04, 6.6031e-06, 1.3368e-09, 8.9179e-06, 2.3912e-09,\n",
       "         3.4700e-08, 3.2423e-08, 1.0111e-03],\n",
       "        [1.5095e-04, 4.7499e-05, 9.6408e-03, 2.1707e-08, 9.7927e-11, 3.8926e-11,\n",
       "         1.6162e-06, 1.2481e-11, 9.1936e-09, 8.5495e-08, 3.2561e-06, 1.2665e-05,\n",
       "         9.3483e-05, 2.3534e-07, 3.0689e-12, 1.8928e-03, 3.9767e-10, 3.9404e-11,\n",
       "         9.4865e-01, 4.2158e-05, 1.1903e-04, 1.3609e-10, 3.7575e-07, 1.9783e-09,\n",
       "         4.5316e-09, 2.4898e-09, 3.9342e-02],\n",
       "        [6.1944e-05, 1.6565e-05, 2.7003e-02, 5.4879e-07, 7.9446e-11, 1.4930e-11,\n",
       "         6.4137e-06, 4.0795e-12, 1.8551e-08, 5.3927e-08, 1.3774e-06, 1.3849e-05,\n",
       "         4.2658e-04, 3.3081e-07, 1.1983e-12, 1.7182e-03, 3.1469e-10, 4.1707e-10,\n",
       "         5.6812e-01, 1.9205e-06, 1.3327e-04, 2.6904e-11, 8.6718e-06, 1.0532e-09,\n",
       "         3.9363e-09, 7.9389e-09, 4.0249e-01],\n",
       "        [1.2645e-05, 4.5212e-05, 9.4346e-04, 1.2113e-08, 9.5454e-12, 1.8861e-12,\n",
       "         1.3715e-06, 1.0541e-11, 1.6899e-09, 3.4866e-09, 3.2021e-07, 3.7505e-06,\n",
       "         3.1157e-05, 3.6387e-08, 4.4095e-13, 1.0802e-04, 9.1751e-11, 1.7935e-11,\n",
       "         9.6998e-01, 1.0967e-06, 1.1425e-05, 1.5988e-10, 6.1645e-08, 2.1850e-10,\n",
       "         6.1038e-10, 9.8869e-11, 2.8865e-02],\n",
       "        [3.1647e-07, 2.0083e-06, 5.1253e-07, 1.1539e-10, 3.9483e-15, 1.1164e-14,\n",
       "         5.1758e-09, 2.4572e-11, 3.0212e-11, 8.8047e-06, 2.8553e-09, 1.8421e-09,\n",
       "         2.8813e-07, 1.0210e-09, 2.1766e-15, 2.3229e-07, 4.1560e-12, 5.1203e-16,\n",
       "         9.9999e-01, 1.2036e-08, 1.8910e-09, 2.7219e-14, 1.0555e-10, 2.0680e-13,\n",
       "         1.0724e-11, 3.0327e-13, 8.5286e-08],\n",
       "        [8.5555e-05, 1.3903e-04, 3.0185e-06, 5.0230e-10, 1.1400e-09, 7.9959e-11,\n",
       "         2.8763e-06, 4.9321e-11, 3.0023e-09, 1.2109e-08, 7.9444e-07, 1.4461e-05,\n",
       "         2.1733e-04, 1.0305e-05, 2.1783e-12, 2.9011e-04, 8.5390e-11, 2.4848e-15,\n",
       "         9.9510e-01, 2.2099e-03, 6.1637e-07, 1.0601e-07, 9.0444e-11, 8.5715e-09,\n",
       "         4.1994e-08, 7.0147e-12, 1.9237e-03],\n",
       "        [1.0642e-04, 2.0112e-07, 9.1822e-07, 3.7928e-07, 7.2285e-10, 2.1613e-07,\n",
       "         4.4476e-03, 6.6881e-09, 4.9557e-09, 1.0593e-04, 1.2238e-05, 1.2726e-04,\n",
       "         3.3298e-02, 5.5822e-03, 4.8039e-11, 1.5593e-03, 2.8253e-07, 3.4988e-15,\n",
       "         9.4901e-01, 5.7003e-03, 1.4721e-07, 5.0126e-10, 1.4419e-06, 1.5686e-10,\n",
       "         6.9857e-09, 9.1760e-10, 4.7466e-05],\n",
       "        [6.4084e-06, 5.0046e-07, 2.2556e-07, 3.1538e-06, 7.0719e-09, 2.3037e-10,\n",
       "         4.0251e-02, 1.0883e-10, 1.6670e-09, 3.8030e-08, 1.4434e-05, 1.3704e-05,\n",
       "         6.3064e-02, 8.6444e-05, 1.1643e-12, 1.7688e-02, 2.1048e-10, 2.8360e-15,\n",
       "         8.4571e-01, 7.5770e-06, 2.6276e-06, 9.0005e-09, 2.3581e-07, 2.4986e-10,\n",
       "         2.8819e-09, 9.4899e-10, 3.3149e-02],\n",
       "        [1.5095e-04, 4.7499e-05, 9.6408e-03, 2.1707e-08, 9.7927e-11, 3.8926e-11,\n",
       "         1.6162e-06, 1.2481e-11, 9.1936e-09, 8.5495e-08, 3.2561e-06, 1.2665e-05,\n",
       "         9.3483e-05, 2.3534e-07, 3.0689e-12, 1.8928e-03, 3.9767e-10, 3.9404e-11,\n",
       "         9.4865e-01, 4.2158e-05, 1.1903e-04, 1.3609e-10, 3.7575e-07, 1.9783e-09,\n",
       "         4.5316e-09, 2.4898e-09, 3.9342e-02],\n",
       "        [2.8575e-07, 3.3716e-06, 2.2423e-06, 4.0598e-10, 8.0485e-14, 2.6936e-14,\n",
       "         4.5771e-08, 7.8481e-12, 6.2374e-11, 2.9811e-05, 5.1877e-08, 1.1160e-08,\n",
       "         4.0952e-07, 5.9313e-09, 6.7969e-15, 8.5152e-07, 3.3852e-12, 8.4277e-15,\n",
       "         9.9996e-01, 2.6286e-09, 1.2415e-08, 2.9579e-14, 3.1958e-09, 8.0665e-13,\n",
       "         2.6729e-11, 1.6694e-12, 2.2121e-07],\n",
       "        [4.6250e-05, 1.9645e-04, 2.7362e-06, 2.3815e-10, 6.0898e-10, 3.8200e-11,\n",
       "         1.6490e-06, 3.5942e-11, 2.4670e-09, 1.0057e-08, 4.5894e-07, 6.0435e-06,\n",
       "         7.9322e-05, 4.5566e-06, 1.2506e-12, 1.8408e-04, 5.4157e-11, 2.3477e-15,\n",
       "         9.9779e-01, 6.4323e-04, 5.9628e-07, 6.9505e-08, 5.4334e-11, 6.0291e-09,\n",
       "         2.5078e-08, 3.4031e-12, 1.0414e-03],\n",
       "        [5.3316e-05, 1.0154e-07, 1.0078e-06, 2.8859e-07, 2.0418e-10, 9.0273e-08,\n",
       "         1.3550e-03, 2.2730e-09, 2.1985e-09, 4.5413e-05, 1.4435e-06, 4.9692e-05,\n",
       "         2.4089e-02, 1.2752e-03, 9.6553e-12, 6.2740e-04, 1.2392e-07, 2.5700e-15,\n",
       "         9.6966e-01, 2.8045e-03, 5.6807e-08, 1.3482e-10, 1.1375e-06, 7.2150e-11,\n",
       "         4.3535e-09, 4.6349e-10, 3.7162e-05],\n",
       "        [1.5095e-04, 4.7499e-05, 9.6408e-03, 2.1707e-08, 9.7927e-11, 3.8926e-11,\n",
       "         1.6162e-06, 1.2481e-11, 9.1936e-09, 8.5495e-08, 3.2561e-06, 1.2665e-05,\n",
       "         9.3483e-05, 2.3534e-07, 3.0689e-12, 1.8928e-03, 3.9767e-10, 3.9404e-11,\n",
       "         9.4865e-01, 4.2158e-05, 1.1903e-04, 1.3609e-10, 3.7575e-07, 1.9783e-09,\n",
       "         4.5316e-09, 2.4898e-09, 3.9342e-02],\n",
       "        [4.5462e-07, 5.0482e-06, 1.9588e-06, 2.5336e-10, 6.6781e-14, 3.9376e-14,\n",
       "         4.0543e-08, 1.2318e-11, 6.5255e-11, 3.6851e-05, 7.7202e-08, 1.4519e-08,\n",
       "         3.3679e-07, 7.0766e-09, 1.0616e-14, 7.2792e-07, 3.4157e-12, 4.8803e-15,\n",
       "         9.9995e-01, 5.1192e-09, 1.4475e-08, 4.5043e-14, 1.5678e-09, 9.8302e-13,\n",
       "         2.9462e-11, 1.3516e-12, 1.2877e-07],\n",
       "        [2.2687e-06, 2.0658e-06, 8.1871e-06, 5.7419e-08, 8.4627e-12, 1.3733e-12,\n",
       "         5.5136e-06, 3.5807e-13, 5.1251e-10, 3.4454e-09, 1.2779e-10, 1.1910e-05,\n",
       "         1.9232e-03, 1.0475e-08, 1.8185e-15, 2.3663e-04, 1.0010e-12, 1.2155e-15,\n",
       "         9.1569e-01, 7.2894e-07, 4.5102e-07, 9.8571e-11, 8.0281e-09, 1.6398e-10,\n",
       "         1.0029e-09, 1.5324e-12, 8.2123e-02],\n",
       "        [2.8395e-06, 5.8003e-08, 1.4052e-08, 1.2737e-07, 1.3963e-11, 1.9184e-10,\n",
       "         6.4937e-04, 6.7586e-10, 2.3505e-11, 4.2964e-08, 4.5204e-07, 6.8026e-07,\n",
       "         4.5692e-02, 1.4619e-06, 1.0908e-12, 5.4401e-05, 5.0460e-09, 1.2071e-16,\n",
       "         9.5334e-01, 2.1356e-04, 4.1660e-09, 9.0000e-10, 8.3432e-09, 8.5680e-13,\n",
       "         2.2929e-11, 8.8949e-12, 4.8735e-05],\n",
       "        [8.9940e-05, 8.1371e-08, 2.0748e-06, 1.6932e-07, 9.2591e-11, 2.9752e-10,\n",
       "         1.9541e-04, 4.7086e-12, 2.4635e-10, 1.3187e-11, 5.0249e-09, 7.1187e-05,\n",
       "         4.1449e-01, 5.3982e-07, 9.9193e-13, 1.1111e-03, 6.2815e-11, 3.9213e-15,\n",
       "         1.7281e-01, 1.5308e-03, 5.8721e-07, 2.0278e-08, 4.7635e-08, 9.5808e-11,\n",
       "         5.2335e-10, 6.7926e-11, 4.0970e-01],\n",
       "        [3.5954e-05, 6.6368e-07, 5.9076e-09, 7.1788e-08, 5.5375e-10, 1.1263e-09,\n",
       "         6.2220e-04, 5.3780e-09, 1.5699e-10, 1.7081e-07, 4.7678e-05, 5.5607e-06,\n",
       "         6.0976e-03, 2.1072e-06, 1.0789e-10, 2.5898e-04, 5.5287e-08, 1.7502e-15,\n",
       "         9.7470e-01, 1.8161e-02, 5.4597e-08, 6.4550e-09, 1.8467e-09, 4.5270e-12,\n",
       "         1.4615e-11, 3.6496e-12, 7.1989e-05],\n",
       "        [1.5544e-04, 6.2589e-07, 6.8433e-04, 2.1100e-07, 2.9209e-10, 2.4176e-09,\n",
       "         2.2262e-05, 7.6338e-13, 3.7659e-09, 3.8055e-10, 1.4431e-08, 8.6802e-05,\n",
       "         2.2034e-02, 9.5435e-07, 7.5891e-13, 1.5040e-02, 1.2921e-10, 4.4857e-14,\n",
       "         1.4581e-01, 7.7693e-03, 3.6572e-06, 2.6122e-09, 4.2368e-07, 9.0809e-10,\n",
       "         1.6204e-08, 2.4665e-09, 8.0840e-01],\n",
       "        [2.4548e-03, 4.3781e-06, 2.5543e-05, 2.9072e-06, 4.2337e-07, 4.9288e-08,\n",
       "         7.3128e-03, 6.9220e-10, 1.5570e-08, 2.5854e-08, 1.5492e-03, 2.7932e-04,\n",
       "         5.9321e-02, 1.1837e-04, 2.3683e-08, 8.1380e-02, 3.3923e-06, 1.8940e-10,\n",
       "         4.6513e-01, 1.4878e-02, 6.1365e-04, 2.4122e-07, 8.1912e-06, 2.8679e-10,\n",
       "         1.7637e-09, 5.6946e-08, 3.6692e-01],\n",
       "        [1.5559e-07, 1.6675e-06, 8.1395e-07, 3.6908e-10, 4.6663e-14, 2.3794e-14,\n",
       "         4.3278e-08, 7.1349e-12, 3.2702e-11, 1.3091e-05, 1.9619e-08, 6.4823e-09,\n",
       "         4.4273e-07, 3.2687e-09, 5.2216e-15, 6.2894e-07, 3.5938e-12, 3.2808e-15,\n",
       "         9.9998e-01, 3.4803e-09, 5.9039e-09, 2.8562e-14, 1.1712e-09, 3.9630e-13,\n",
       "         1.5024e-11, 9.0272e-13, 2.4318e-07],\n",
       "        [1.5095e-04, 4.7499e-05, 9.6408e-03, 2.1707e-08, 9.7927e-11, 3.8926e-11,\n",
       "         1.6162e-06, 1.2481e-11, 9.1936e-09, 8.5495e-08, 3.2561e-06, 1.2665e-05,\n",
       "         9.3483e-05, 2.3534e-07, 3.0689e-12, 1.8928e-03, 3.9767e-10, 3.9404e-11,\n",
       "         9.4865e-01, 4.2158e-05, 1.1903e-04, 1.3609e-10, 3.7575e-07, 1.9783e-09,\n",
       "         4.5316e-09, 2.4898e-09, 3.9342e-02],\n",
       "        [1.3036e-06, 5.6989e-06, 1.5874e-05, 4.9722e-10, 2.4595e-13, 1.0673e-13,\n",
       "         4.5908e-08, 6.4017e-12, 1.4373e-10, 3.6939e-06, 1.1335e-07, 2.2549e-08,\n",
       "         5.6146e-07, 1.1201e-08, 2.5799e-14, 4.8874e-06, 1.2881e-11, 2.6669e-14,\n",
       "         9.9996e-01, 3.7694e-08, 7.3302e-08, 1.8303e-13, 3.2116e-09, 3.1758e-12,\n",
       "         5.5714e-11, 6.0180e-12, 3.9571e-06],\n",
       "        [4.9657e-07, 1.0300e-07, 8.4544e-05, 2.5934e-08, 2.2129e-12, 8.7246e-13,\n",
       "         1.2520e-06, 2.4644e-15, 2.9805e-10, 2.2120e-12, 1.8206e-11, 3.3026e-06,\n",
       "         1.6047e-04, 9.3710e-10, 1.5511e-15, 1.1021e-04, 1.3392e-13, 7.4465e-14,\n",
       "         6.8402e-03, 2.2516e-07, 2.4243e-06, 1.3567e-11, 5.5148e-08, 3.1780e-11,\n",
       "         1.3049e-10, 1.2457e-11, 9.9280e-01],\n",
       "        [1.8802e-04, 4.7540e-06, 1.6441e-06, 1.6596e-07, 1.0504e-08, 7.7495e-10,\n",
       "         1.4016e-04, 2.2240e-09, 7.5156e-10, 2.3293e-09, 7.5121e-05, 3.7106e-05,\n",
       "         2.6052e-03, 1.8677e-07, 5.0289e-10, 3.0145e-03, 8.0786e-08, 3.7188e-12,\n",
       "         9.3469e-01, 1.9859e-02, 1.1533e-05, 1.4230e-07, 2.6754e-08, 4.1869e-10,\n",
       "         2.4752e-10, 2.4878e-10, 3.9372e-02],\n",
       "        [6.9829e-06, 1.0637e-05, 1.0330e-05, 5.2128e-11, 2.6831e-14, 5.3606e-13,\n",
       "         4.0800e-09, 9.9283e-11, 3.2929e-10, 1.3628e-05, 2.6374e-08, 2.1200e-08,\n",
       "         2.6882e-07, 1.4383e-08, 4.5806e-14, 1.9808e-06, 1.3530e-11, 6.3939e-16,\n",
       "         9.9995e-01, 4.7377e-06, 5.9802e-08, 2.4281e-13, 4.1865e-11, 6.5919e-12,\n",
       "         9.0771e-11, 2.7948e-12, 2.0228e-07],\n",
       "        [5.4614e-07, 1.0627e-06, 1.0845e-06, 2.1568e-08, 3.2711e-12, 9.6835e-13,\n",
       "         5.8189e-06, 4.1405e-12, 3.1635e-10, 4.3140e-06, 1.3551e-08, 8.9380e-07,\n",
       "         2.9885e-05, 8.0477e-08, 4.7188e-15, 6.1146e-05, 1.7975e-12, 4.1564e-16,\n",
       "         9.9979e-01, 7.1694e-08, 2.4084e-07, 8.2834e-13, 2.8338e-09, 6.7807e-11,\n",
       "         4.3797e-10, 1.1052e-11, 1.0181e-04],\n",
       "        [4.6638e-06, 1.3392e-07, 4.9222e-08, 4.4727e-07, 8.7476e-11, 1.3974e-10,\n",
       "         1.6186e-03, 1.2477e-10, 8.3383e-11, 1.5386e-08, 1.9849e-07, 3.7914e-06,\n",
       "         8.5242e-02, 2.6233e-06, 1.7830e-13, 5.3359e-04, 4.0636e-10, 8.3094e-17,\n",
       "         9.0988e-01, 3.0761e-05, 4.6293e-08, 2.3104e-09, 3.0840e-08, 2.4514e-11,\n",
       "         3.3694e-10, 2.4504e-11, 2.6785e-03]])"
      ]
     },
     "execution_count": 55,
     "metadata": {},
     "output_type": "execute_result"
    }
   ],
   "source": [
    "prob"
   ]
  },
  {
   "cell_type": "code",
   "execution_count": 57,
   "metadata": {},
   "outputs": [
    {
     "data": {
      "text/plain": [
       "tensor([3.8926e-11, 2.2637e-08, 5.0188e-06, 1.9726e-06, 8.2563e-05, 1.8928e-03,\n",
       "        4.2658e-04, 3.4866e-09, 1.0555e-10, 1.2109e-08, 2.0112e-07, 6.4084e-06,\n",
       "        4.7499e-05, 3.1958e-09, 1.9645e-04, 5.3316e-05, 8.5495e-08, 5.1192e-09,\n",
       "        2.0658e-06, 1.4052e-08, 2.9752e-10, 6.0976e-03, 2.2034e-02, 4.3781e-06,\n",
       "        1.5559e-07, 4.2158e-05, 4.8874e-06, 1.3392e-13, 7.5156e-10, 1.3628e-05,\n",
       "        1.0627e-06, 4.6638e-06])"
      ]
     },
     "execution_count": 57,
     "metadata": {},
     "output_type": "execute_result"
    }
   ],
   "source": [
    "prob[torch.arange(32), Y]"
   ]
  },
  {
   "cell_type": "code",
   "execution_count": 132,
   "metadata": {},
   "outputs": [],
   "source": [
    "# Now more respectable\n",
    "g = torch.Generator().manual_seed(2147483647)\n",
    "C = torch.randn((27, 2), generator=g)\n",
    "W1 = torch.randn((6, 100), generator=g)\n",
    "b1 = torch.randn(100, generator=g)\n",
    "W2 = torch.randn((100, 27), generator=g)\n",
    "b2 = torch.randn(27, generator=g)\n",
    "parameters = [C, W1, b1, W2, b2]\n",
    "for p in parameters:\n",
    "  p.requires_grad = True"
   ]
  },
  {
   "cell_type": "code",
   "execution_count": 78,
   "metadata": {},
   "outputs": [
    {
     "data": {
      "text/plain": [
       "3481"
      ]
     },
     "execution_count": 78,
     "metadata": {},
     "output_type": "execute_result"
    }
   ],
   "source": [
    "sum(p.nelement() for p in parameters)"
   ]
  },
  {
   "cell_type": "code",
   "execution_count": 79,
   "metadata": {},
   "outputs": [],
   "source": [
    "emb = C[X]\n",
    "h = torch.tanh(emb.view(-1, 6) @ W1 + b1)\n",
    "logits = h @ W2 + b2\n",
    "counts = torch.exp(logits)\n",
    "prob = counts / counts.sum(1, keepdims=True)\n"
   ]
  },
  {
   "cell_type": "code",
   "execution_count": 80,
   "metadata": {},
   "outputs": [
    {
     "data": {
      "text/plain": [
       "tensor([1.5213e-14, 1.2830e-12, 1.9647e-08, 3.1757e-10, 5.6763e-12, 1.0823e-10,\n",
       "        1.8821e-14, 1.1087e-08, 1.6134e-09, 2.1917e-03, 5.3863e-08, 3.1970e-04,\n",
       "        2.0283e-10, 3.5709e-11, 6.2336e-07, 5.1704e-07, 1.4206e-01, 9.5657e-09,\n",
       "        2.0671e-09, 2.5181e-02, 7.6846e-05, 2.8706e-12, 1.6961e-09, 5.6464e-15,\n",
       "        4.4656e-03, 2.6851e-09, 3.5865e-05, 2.3389e-04, 1.6890e-09, 9.5614e-01,\n",
       "        9.7404e-10, 2.1230e-12])"
      ]
     },
     "execution_count": 80,
     "metadata": {},
     "output_type": "execute_result"
    }
   ],
   "source": [
    "prob[torch.arange(32), Y]"
   ]
  },
  {
   "cell_type": "code",
   "execution_count": 81,
   "metadata": {},
   "outputs": [
    {
     "data": {
      "text/plain": [
       "tensor(-17.7697)"
      ]
     },
     "execution_count": 81,
     "metadata": {},
     "output_type": "execute_result"
    }
   ],
   "source": [
    "prob[torch.arange(32), Y].log().mean()"
   ]
  },
  {
   "cell_type": "code",
   "execution_count": 82,
   "metadata": {},
   "outputs": [
    {
     "data": {
      "text/plain": [
       "tensor(17.7697)"
      ]
     },
     "execution_count": 82,
     "metadata": {},
     "output_type": "execute_result"
    }
   ],
   "source": [
    "F.cross_entropy(logits, Y)"
   ]
  },
  {
   "cell_type": "code",
   "execution_count": 89,
   "metadata": {},
   "outputs": [
    {
     "name": "stdout",
     "output_type": "stream",
     "text": [
      "0.25680944323539734\n"
     ]
    }
   ],
   "source": [
    "for p in parameters:\n",
    "  p.requires_grad = True\n",
    "\n",
    "for i in range(1000):\n",
    "  # Forward\n",
    "  emb = C[X]\n",
    "  h = torch.tanh(emb.view(-1, 6) @ W1 + b1)\n",
    "  logits = h @ W2 + b2\n",
    "  loss = F.cross_entropy(logits, Y)\n",
    "  # print(loss.item())\n",
    "  # Backward\n",
    "  lr = 0.1\n",
    "  for p in parameters:\n",
    "    p.grad = None\n",
    "  loss.backward()\n",
    "  # update\n",
    "  for p in parameters:\n",
    "    p.data += -p.grad * lr\n",
    "print(loss.item())"
   ]
  },
  {
   "cell_type": "code",
   "execution_count": 90,
   "metadata": {},
   "outputs": [
    {
     "data": {
      "text/plain": [
       "torch.return_types.max(\n",
       "values=tensor([13.1876, 16.8927, 21.7992, 20.8617, 17.4371, 13.1876, 17.0407, 14.9610,\n",
       "        15.0150, 16.6315, 17.1568, 15.2600, 13.1876, 14.8657, 18.7294, 17.7879,\n",
       "        13.1876, 16.0837, 19.2635, 15.3236, 17.2138, 15.2486, 11.7327,  9.7609,\n",
       "        16.8429, 13.1876, 18.1293, 19.5603, 12.9611, 15.7193, 20.4239, 16.7275],\n",
       "       grad_fn=<MaxBackward0>),\n",
       "indices=tensor([15, 13, 13,  1,  0, 15, 12,  9, 22,  9,  1,  0, 15, 22,  1,  0, 15, 19,\n",
       "         1,  2,  5, 12, 12,  1,  0, 15, 15, 16,  8,  9,  1,  0]))"
      ]
     },
     "execution_count": 90,
     "metadata": {},
     "output_type": "execute_result"
    }
   ],
   "source": [
    "logits.max(1)"
   ]
  },
  {
   "cell_type": "code",
   "execution_count": 91,
   "metadata": {},
   "outputs": [
    {
     "data": {
      "text/plain": [
       "tensor([ 5, 13, 13,  1,  0, 15, 12,  9, 22,  9,  1,  0,  1, 22,  1,  0,  9, 19,\n",
       "         1,  2,  5, 12, 12,  1,  0, 19, 15, 16,  8,  9,  1,  0])"
      ]
     },
     "execution_count": 91,
     "metadata": {},
     "output_type": "execute_result"
    }
   ],
   "source": [
    "Y"
   ]
  },
  {
   "cell_type": "code",
   "execution_count": 111,
   "metadata": {},
   "outputs": [],
   "source": [
    "# Try to find a good learning rate\n",
    "lre = torch.linspace(-3, 0, 1000)\n",
    "lrs = 10 ** lre"
   ]
  },
  {
   "cell_type": "code",
   "execution_count": 97,
   "metadata": {},
   "outputs": [
    {
     "data": {
      "text/plain": [
       "tensor([ 9, 31, 30, 31, 24,  7, 31,  2, 28, 17, 18, 10,  1, 30, 18,  1,  2, 31,\n",
       "        26, 21, 27,  2,  9,  7,  9, 25, 13, 16, 15,  9, 13, 30])"
      ]
     },
     "execution_count": 97,
     "metadata": {},
     "output_type": "execute_result"
    }
   ],
   "source": [
    "torch.randint(0, X.shape[0], (32,))"
   ]
  },
  {
   "cell_type": "code",
   "execution_count": 100,
   "metadata": {},
   "outputs": [],
   "source": [
    "# Create full data\n",
    "\n",
    "block_size = 3  # context length: how many chars do we take to predict the next one\n",
    "X, Y = [], []\n",
    "\n",
    "for w in words:\n",
    "  # print(w)\n",
    "  context = [0] * block_size\n",
    "  for ch in w + '.':\n",
    "    ix = stoi[ch]\n",
    "    X.append(context)\n",
    "    Y.append(ix)\n",
    "    # print(''.join(itos[i] for i in context), '--->', itos[ix])\n",
    "    context = context[1:] + [ix]  # crop and append\n",
    "X = torch.tensor(X)\n",
    "Y = torch.tensor(Y)"
   ]
  },
  {
   "cell_type": "code",
   "execution_count": 133,
   "metadata": {},
   "outputs": [
    {
     "name": "stdout",
     "output_type": "stream",
     "text": [
      "8.568706512451172\n"
     ]
    }
   ],
   "source": [
    "lri = []\n",
    "lossi = []\n",
    "\n",
    "for i in range(1000):\n",
    "  # Randomly select minibatch of size 32\n",
    "  ix = torch.randint(0, X.shape[0], (32,))\n",
    "  # Forward\n",
    "  emb = C[X[ix]]\n",
    "  h = torch.tanh(emb.view(-1, 6) @ W1 + b1)\n",
    "  logits = h @ W2 + b2\n",
    "  loss = F.cross_entropy(logits, Y[ix])\n",
    "  # print(loss.item())\n",
    "  # Backward\n",
    "  for p in parameters:\n",
    "    p.grad = None\n",
    "  loss.backward()\n",
    "  # update\n",
    "  lr = lrs[i]\n",
    "  for p in parameters:\n",
    "    p.data += -p.grad * lr\n",
    "  lri.append(lre[i])\n",
    "  lossi.append(loss.item())\n",
    "print(loss.item())"
   ]
  },
  {
   "cell_type": "code",
   "execution_count": 134,
   "metadata": {},
   "outputs": [
    {
     "data": {
      "text/plain": [
       "[<matplotlib.lines.Line2D at 0x16bb77290>]"
      ]
     },
     "execution_count": 134,
     "metadata": {},
     "output_type": "execute_result"
    },
    {
     "data": {
      "image/png": "[encoded data removed]",
      "text/plain": [
       "<Figure size 640x480 with 1 Axes>"
      ]
     },
     "metadata": {},
     "output_type": "display_data"
    }
   ],
   "source": [
    "plt.plot(lri, lossi)"
   ]
  },
  {
   "cell_type": "code",
   "execution_count": 135,
   "metadata": {},
   "outputs": [
    {
     "data": {
      "text/plain": [
       "32033"
      ]
     },
     "execution_count": 135,
     "metadata": {},
     "output_type": "execute_result"
    }
   ],
   "source": [
    "len(words)"
   ]
  },
  {
   "cell_type": "code",
   "execution_count": 149,
   "metadata": {},
   "outputs": [],
   "source": [
    "def build_dataset(words):\n",
    "  block_size = 3  # context length: how many chars do we take to predict the next one\n",
    "  X, Y = [], []\n",
    "\n",
    "  for w in words:\n",
    "    # print(w)\n",
    "    context = [0] * block_size\n",
    "    for ch in w + '.':\n",
    "      ix = stoi[ch]\n",
    "      X.append(context)\n",
    "      Y.append(ix)\n",
    "      # print(''.join(itos[i] for i in context), '--->', itos[ix])\n",
    "      context = context[1:] + [ix]  # crop and append\n",
    "  X = torch.tensor(X)\n",
    "  Y = torch.tensor(Y)\n",
    "  return X, Y\n",
    "\n",
    "import random\n",
    "random.seed(42)\n",
    "n1 = int(0.8*len(words))\n",
    "n2 = int(0.9*len(words))\n",
    "\n",
    "Xtr, Ytr = build_dataset(words[:n1])\n",
    "Xdev, Ydev = build_dataset(words[:n2])\n",
    "Xte, Yte = build_dataset(words[n2:])"
   ]
  },
  {
   "cell_type": "code",
   "execution_count": 150,
   "metadata": {},
   "outputs": [],
   "source": [
    "g = torch.Generator().manual_seed(2147483647) # for reproducibility\n",
    "C = torch.randn((27, 10), generator=g)\n",
    "W1 = torch.randn((30, 200), generator=g)\n",
    "b1 = torch.randn(200, generator=g)\n",
    "W2 = torch.randn((200, 27), generator=g)\n",
    "b2 = torch.randn(27, generator=g)\n",
    "parameters = [C, W1, b1, W2, b2]"
   ]
  },
  {
   "cell_type": "code",
   "execution_count": 151,
   "metadata": {},
   "outputs": [],
   "source": [
    "for p in parameters:\n",
    "  p.requires_grad = True"
   ]
  },
  {
   "cell_type": "code",
   "execution_count": 152,
   "metadata": {},
   "outputs": [],
   "source": [
    "lri = []\n",
    "lossi = []\n",
    "stepi = []"
   ]
  },
  {
   "cell_type": "code",
   "execution_count": 153,
   "metadata": {},
   "outputs": [],
   "source": [
    "for i in range(200000):\n",
    "  ix = torch.randint(0, Xtr.shape[0], (32,))\n",
    "\n",
    "  # Forward pass\n",
    "  emb = C[Xtr[ix]]\n",
    "  h = torch.tanh(emb.view(-1, 30) @ W1 + b1)\n",
    "  logits = h @ W2 + b2\n",
    "  loss = F.cross_entropy(logits, Ytr[ix])\n",
    "\n",
    "  # backward\n",
    "  for p in parameters:\n",
    "    p.grad = None\n",
    "\n",
    "  loss.backward()\n",
    "\n",
    "  # Update\n",
    "  lr = 0.1 if i < 100000 else 0.01\n",
    "  for p in parameters:\n",
    "    p.data += -lr * p.grad\n",
    "\n",
    "  stepi.append(i)\n",
    "  lossi.append(loss.log10().item())\n"
   ]
  },
  {
   "cell_type": "code",
   "execution_count": 154,
   "metadata": {},
   "outputs": [
    {
     "data": {
      "text/plain": [
       "[<matplotlib.lines.Line2D at 0x16b86f710>]"
      ]
     },
     "execution_count": 154,
     "metadata": {},
     "output_type": "execute_result"
    },
    {
     "data": {
      "image/png": "[encoded data removed]",
      "text/plain": [
       "<Figure size 640x480 with 1 Axes>"
      ]
     },
     "metadata": {},
     "output_type": "display_data"
    }
   ],
   "source": [
    "plt.plot(stepi, lossi)"
   ]
  },
  {
   "cell_type": "code",
   "execution_count": 155,
   "metadata": {},
   "outputs": [
    {
     "data": {
      "text/plain": [
       "tensor(2.0669, grad_fn=<NllLossBackward0>)"
      ]
     },
     "execution_count": 155,
     "metadata": {},
     "output_type": "execute_result"
    }
   ],
   "source": [
    "# training loss \n",
    "emb = C[Xtr] # (32, 3, 2)\n",
    "h = torch.tanh(emb.view(-1, 30) @ W1 + b1) # (32, 100)\n",
    "logits = h @ W2 + b2 # (32, 27)\n",
    "loss = F.cross_entropy(logits, Ytr)\n",
    "loss"
   ]
  },
  {
   "cell_type": "code",
   "execution_count": 156,
   "metadata": {},
   "outputs": [
    {
     "data": {
      "text/plain": [
       "tensor(2.1015, grad_fn=<NllLossBackward0>)"
      ]
     },
     "execution_count": 156,
     "metadata": {},
     "output_type": "execute_result"
    }
   ],
   "source": [
    "# validation loss\n",
    "emb = C[Xdev] # (32, 3, 2)\n",
    "h = torch.tanh(emb.view(-1, 30) @ W1 + b1) # (32, 100)\n",
    "logits = h @ W2 + b2 # (32, 27)\n",
    "loss = F.cross_entropy(logits, Ydev)\n",
    "loss"
   ]
  },
  {
   "cell_type": "code",
   "execution_count": 157,
   "metadata": {},
   "outputs": [
    {
     "data": {
      "text/plain": [
       "tensor(2.4122, grad_fn=<NllLossBackward0>)"
      ]
     },
     "execution_count": 157,
     "metadata": {},
     "output_type": "execute_result"
    }
   ],
   "source": [
    "# test loss\n",
    "emb = C[Xte] # (32, 3, 2)\n",
    "h = torch.tanh(emb.view(-1, 30) @ W1 + b1) # (32, 100)\n",
    "logits = h @ W2 + b2 # (32, 27)\n",
    "loss = F.cross_entropy(logits, Yte)\n",
    "loss"
   ]
  },
  {
   "cell_type": "code",
   "execution_count": 158,
   "metadata": {},
   "outputs": [
    {
     "data": {
      "image/png": "[encoded data removed]",
      "text/plain": [
       "<Figure size 800x800 with 1 Axes>"
      ]
     },
     "metadata": {},
     "output_type": "display_data"
    }
   ],
   "source": [
    "# visualize dimensions 0 and 1 of the embedding matrix C for all characters\n",
    "plt.figure(figsize=(8,8))\n",
    "plt.scatter(C[:,0].data, C[:,1].data, s=200)\n",
    "for i in range(C.shape[0]):\n",
    "    plt.text(C[i,0].item(), C[i,1].item(), itos[i], ha=\"center\", va=\"center\", color='white')\n",
    "plt.grid('minor')"
   ]
  },
  {
   "cell_type": "code",
   "execution_count": 160,
   "metadata": {},
   "outputs": [
    {
     "name": "stdout",
     "output_type": "stream",
     "text": [
      "carmah.\n",
      "amelle.\n",
      "khi.\n",
      "mili.\n",
      "thilahnanden.\n",
      "jazhith.\n",
      "deliah.\n",
      "jareen.\n",
      "nellara.\n",
      "chaiiv.\n",
      "kaleigh.\n",
      "ham.\n",
      "evin.\n",
      "quinn.\n",
      "shoise.\n",
      "livabi.\n",
      "waxtlyn.\n",
      "jarynn.\n",
      "fine.\n",
      "pippatley.\n"
     ]
    }
   ],
   "source": [
    "# sample from the mdoel\n",
    "\n",
    "g = torch.Generator().manual_seed(2147483647 + 10)\n",
    "\n",
    "for _ in range(20):\n",
    "  out = []\n",
    "  context = [0] * block_size\n",
    "  while True:\n",
    "    emb = C[torch.tensor([context])]\n",
    "    h = torch.tanh(emb.view(-1, 30) @ W1 + b1)\n",
    "    logits = h @ W2 + b2\n",
    "    probs = torch.softmax(logits, dim=1)\n",
    "    ix = torch.multinomial(probs, num_samples=1, generator=g).item()\n",
    "    context = context[1:] + [ix]\n",
    "    out.append(ix)\n",
    "    if ix == 0:\n",
    "      break\n",
    "\n",
    "  print(''.join(itos[i] for i in out))"
   ]
  },
  {
   "cell_type": "code",
   "execution_count": null,
   "metadata": {},
   "outputs": [],
   "source": []
  }
 ],
 "metadata": {
  "kernelspec": {
   "display_name": "work1",
   "language": "python",
   "name": "python3"
  },
  "language_info": {
   "codemirror_mode": {
    "name": "ipython",
    "version": 3
   },
   "file_extension": ".py",
   "mimetype": "text/x-python",
   "name": "python",
   "nbconvert_exporter": "python",
   "pygments_lexer": "ipython3",
   "version": "3.12.3"
  }
 },
 "nbformat": 4,
 "nbformat_minor": 2
}
